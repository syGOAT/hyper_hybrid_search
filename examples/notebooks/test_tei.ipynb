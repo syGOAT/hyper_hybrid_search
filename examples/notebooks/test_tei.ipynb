{
 "cells": [
  {
   "cell_type": "code",
   "execution_count": 1,
   "metadata": {},
   "outputs": [
    {
     "name": "stderr",
     "output_type": "stream",
     "text": [
      "/root/autodl-tmp/env/qdrant/lib/python3.10/site-packages/tqdm/auto.py:21: TqdmWarning: IProgress not found. Please update jupyter and ipywidgets. See https://ipywidgets.readthedocs.io/en/stable/user_install.html\n",
      "  from .autonotebook import tqdm as notebook_tqdm\n"
     ]
    }
   ],
   "source": [
    "from llama_index.embeddings.text_embeddings_inference import TextEmbeddingsInference\n",
    "from llama_index.core import Settings\n",
    "\n",
    "embed_model = TextEmbeddingsInference(\n",
    "    base_url=\"http://localhost:8000\",\n",
    "    model_name=\"/root/autodl-tmp/models/bge-large-en-v1.5\",  # required for formatting inference text,\n",
    "    timeout=60,  # timeout in seconds\n",
    "    embed_batch_size=10,  # batch size for embedding\n",
    ")\n",
    "\n",
    "Settings.embed_model = embed_model"
   ]
  },
  {
   "cell_type": "code",
   "execution_count": 2,
   "metadata": {},
   "outputs": [],
   "source": [
    "import requests\n",
    "import json\n",
    "import torch\n",
    "\n",
    "def fhy_default_sparse_encoder(url: str):\n",
    "    def compute_vectors(texts):\n",
    "        #print(type(texts))\n",
    "        data = {\"inputs\": texts, \"normalize\": False, \"truncate\": True}\n",
    "        headers = {'Content-Type': 'application/json'}\n",
    "        response = requests.post(url, data=json.dumps(data), headers=headers)\n",
    "            \n",
    "        if response.status_code != 200:\n",
    "            raise Exception(response.text)       \n",
    "        \n",
    "        response_json = response.json()\n",
    "        #print(type(response_json))\n",
    "        outputs = torch.tensor(response_json)\n",
    "        if torch.cuda.is_available():\n",
    "            outputs = outputs.to(\"cuda\")\n",
    "        \n",
    "        # extract the vectors that are non-zero and their indices\n",
    "        indices = []\n",
    "        vecs = []\n",
    "        for batch in outputs:\n",
    "            indices.append(batch.nonzero(as_tuple=True)[0].tolist())\n",
    "            vecs.append(batch[indices[-1]].tolist())\n",
    "        return indices, vecs\n",
    "        \n",
    "    return compute_vectors\n",
    "    "
   ]
  },
  {
   "cell_type": "code",
   "execution_count": 3,
   "metadata": {},
   "outputs": [
    {
     "data": {
      "text/plain": [
       "[TextNode(id_='39026fff-2343-428b-abbb-4b06587598e6', embedding=None, metadata={'label': '催化'}, excluded_embed_metadata_keys=[], excluded_llm_metadata_keys=[], relationships={}, text='We present here a joint experimental and computational study on the formation of benzothiazoles. Our investigation reveals a green protocol for accessing benzothiazoles from acyl chlorides using either water alongside a reducing agent as the reaction medium or in combination with stoichiometric amounts of a weak acid, instead of the harsh conditions and catalysts previously reported. Specifically, we show that a protic solvent, particularly water, enables the formation of 2-substituted benzothiazoles from N-acyl 1,2-aminothiophenols already at room temperature, without the need for strong acids or metal catalysts. DFT Molecular Dynamics simulations coupled with advanced enhanced sampling techniques provide a clear understanding of the catalytic role of water. We demonstrate how bulk water 鈥?due to its extended network of hydrogen bonds and an efficient Grotthus mechanism 鈥?provides a reaction path that strongly reduces the reaction barriers compared to aprotic environments, namely more than 80 kJ/mol for the first reaction step and 250 kJ/mol for the second. Finally, we discuss the influence of different aliphatic and aromatic substituents with varying electronic properties on chemical reactivity. Besides providing in-depth mechanistic insights, we believe that our findings pave the way for a greener route toward an important class of bioactive molecules.', start_char_idx=None, end_char_idx=None, text_template='{metadata_str}\\n\\n{content}', metadata_template='{key}: {value}', metadata_seperator='\\n'),\n",
       " TextNode(id_='5562dd1b-e096-4ae7-b1dd-2760c08d809b', embedding=None, metadata={'label': '催化'}, excluded_embed_metadata_keys=[], excluded_llm_metadata_keys=[], relationships={}, text='Stereochemically pure phosphines with phosphorus-heteroatom bonds and P-centered chirality are a promising class of functional building blocks for the design of chiral ligands and organocatalysts. A route to enantiomerically pure primary aminophosphine sulfides was opened through stereospecific reductive C鈭扤 bond cleavage of phosphorus(V) precursors by lithium in liquid ammonia. The chemoselectivity of the reaction as a function of reaction time, substrate pattern, and chiral auxiliary was investigated. In the presence of exclusively aliphatic groups bound to the phosphorus atom, all competing reductive side reactions are totally prevented. The absolute configurations of all P-stereogenic compounds were determined by single-crystal X-ray diffraction analysis. Their use as synthetic building blocks was demonstrated. The lithium salt of (R)-BINOL-dithiophosphoric acid proved to be a useful stereochemical probe to determine the enantiomeric purity. Insights into the coordination mode of the lithium-based chiral complex formed in solution was provided by NMR spectroscopy and DFT calculations.', start_char_idx=None, end_char_idx=None, text_template='{metadata_str}\\n\\n{content}', metadata_template='{key}: {value}', metadata_seperator='\\n'),\n",
       " TextNode(id_='0fcdfcd2-f0ad-48e4-b476-c50c7b38c195', embedding=None, metadata={'label': '钙钛矿太阳能电池'}, excluded_embed_metadata_keys=[], excluded_llm_metadata_keys=[], relationships={}, text='In just over a decade, the power conversion efficiency of metal-halide perovskite solar cells has increased from 3.9% to 25.5%, suggesting this technology might be ready for large-scale exploitation in industrial applications. Photovoltaic devices based on perovskite single crystals are emerging as a viable alternative to polycrystalline materials. Perovskite single crystals indeed possess lower trap state densities, higher carrier mobilities, and longer diffusion lengths, and potentially can achieve higher performance with respect to those fabricated with polycrystalline films, although their integration in a complete device needs particular attention and the use of specifically tailored growth techniques. In this review, recent advances on single-crystal halide perovskites are reported. First, crystalline structure and fundamental properties of 3D perovskites are discussed, including the emerging mixed-anion cation perovskites, and then the most popular growth methods with a focus on techniques that enable the implementation in photovoltaic devices are presented. Architectures and materials used to produce lateral and vertical solar cells are further introduced and recent improvements in device design and fabrication are summarized. Finally, the strategies used to solve the still open challenge on these materials regarding stability under environmental conditions are critically discussed and the view on the opportunities offered by halide perovskites is reflected.', start_char_idx=None, end_char_idx=None, text_template='{metadata_str}\\n\\n{content}', metadata_template='{key}: {value}', metadata_seperator='\\n'),\n",
       " TextNode(id_='1db13343-dab2-436a-be99-439c76d079fc', embedding=None, metadata={'label': '钙钛矿太阳能电池'}, excluded_embed_metadata_keys=[], excluded_llm_metadata_keys=[], relationships={}, text='For high-performance application of perovskite solar cells (PSCs) in monolithic perovskite/silicon tandem configuration, an optimal bandgap and process method of the perovskite top cell is required. While the two-step method leads to regular perovskite film crystallization, engineering wider bandgaps (Eg > 1.65 eV) for the solution-based two-step method remains a challenge. This work introduces an effective and facile strategy to increase the bandgap of two-step solution-processed perovskite films by incorporating bromide in both deposition steps, the inorganic precursor deposition (step 1, PbBr2) and the organic precursor deposition (step 2, FABr). This strategy yields improved charge carrier extraction and quasi-Fermi level splitting with power conversion efficiencies (PCEs) of up to 15.9%. Further improvements are achieved by introducing CsI in the bulk and utilizing LiF as surface passivation, resulting in a stable power output exceeding 18.5% for Eg = 1.68 eV. This additional performance boost arises from enhanced perovskite film crystallization, leading to improved charge carrier extraction. Laboratory scale monolithic perovskite/silicon solar cells (TSCs) (1 cm2 active area) achieve PCEs up to 23.7%. This work marks a significant advancement for wide bandgap two-step solution-processed perovskite films, enabling their effective use in high-performance and reproducible PSCs and perovskite/silicon\\xa0TSCs.', start_char_idx=None, end_char_idx=None, text_template='{metadata_str}\\n\\n{content}', metadata_template='{key}: {value}', metadata_seperator='\\n'),\n",
       " TextNode(id_='3659d11d-864e-4130-8982-37f623c9aecb', embedding=None, metadata={'label': '纳米医学'}, excluded_embed_metadata_keys=[], excluded_llm_metadata_keys=[], relationships={}, text='Tumor immunotherapy has developed rapidly in recent years, with good curative effects and minimal side effects, but it is restricted by the poor tumor immunogenicity. Metformin, a clinical drug used worldwide, has been found to have a novel role in inducing tumor pyroptosis, which in turn promotes tumor to releases inflammatory substances and improve tumor immunogenicity. Nevertheless, it requires a higher dosage for cancer treatment compared to conventional chemotherapy medications, thereby exhibiting pronounced side effects. Within the context of this specific study, we developed a pH-responsive nanocarrier (MT NPs) that can simultaneously deliver metformin as a pyroptosis inducer and Toripalimab as an anti-programmed cell death (PD)-1 monoclonal antibody for the purpose of cancer immunotherapy. Once the nanodrugs reached the acidic tumor microenvironment, their structures were degraded due to hydrophilic transformation caused by segment protonation. Furthermore, the MT NPs released the metformin and Toripalimab to synergistically promote tumor immunity, resulting in significantly improved therapeutic outcomes, potentially leading to successful tumor eradication.', start_char_idx=None, end_char_idx=None, text_template='{metadata_str}\\n\\n{content}', metadata_template='{key}: {value}', metadata_seperator='\\n'),\n",
       " TextNode(id_='37a8a89a-ac13-4b3b-83f7-e44154814cf6', embedding=None, metadata={'label': '纳米医学'}, excluded_embed_metadata_keys=[], excluded_llm_metadata_keys=[], relationships={}, text='Tumor metastasis remains a leading factor in the failure of cancer treatments and patient mortality. To address this, a silver-induced absorption red-shifted core-shell nano-particle is developed, and surface-modified with triphenylphosphonium bromide (TPP) and hyaluronic acid (HA) to obtain a novel nanodiagnosis-treatment agent (Ag@CuS-TPP@HA). This diagnosis-treatment agent can dual-targets cancer cells and mitochondria, and exhibits maximal light absorption at 1064\\xa0nm, thereby enhancing nesr-infrared II (NIR-II) photoacoustic (PA) signal and photothermal effects under 1064\\xa0nm laser irradiation. Additionally, the silver in Ag@CuS-TPP@HA can catalyze the Fenton-like reactions with H2O2 in the tumor tissue, yielding reactive oxygen species (ROS). The ROS production, coupled with enhanced photothermal effects, instigates immunogenic cell death (ICD), leading to a substantial release of tumor-associated antigens (TAAs) and damage-associated molecular patterns, which have improved the tumor immune suppression microenvironment and boosting immune checkpoint blockade therapy, thus stimulating a systemic antitumor immune response. Hence, Ag@CuS-TPP@HA, as a cancer diagnostic-treatment agent, not only accomplishes targeted the NIR-II PA imaging of tumor tissue and addresses the challenge of accurate diagnosis of deep cancer tissue in vivo, but it also leverages ROS/photothermal therapy to enhance immune checkpoint blockade, thereby eliminating primary tumors and effectively inhibiting distant tumor growth.', start_char_idx=None, end_char_idx=None, text_template='{metadata_str}\\n\\n{content}', metadata_template='{key}: {value}', metadata_seperator='\\n')]"
      ]
     },
     "execution_count": 3,
     "metadata": {},
     "output_type": "execute_result"
    }
   ],
   "source": [
    "import pandas as pd\n",
    "from llama_index.core.schema import TextNode\n",
    "\n",
    "\n",
    "nodes = []\n",
    "eval_docs = []\n",
    "\n",
    "df = pd.read_excel('/root/autodl-tmp/kong_work_space/qdrant_hybrid/data/label_papers_topic.xlsx',)\n",
    "\n",
    "for docs, label in zip(df['Representative_Docs'], df['Label-Zh']):\n",
    "    doc_1, doc_2, doc_3 = eval(docs)\n",
    "    nodes.append(TextNode(text=doc_1, metadata={\"label\": label}))\n",
    "    nodes.append(TextNode(text=doc_2, metadata={\"label\": label}))\n",
    "    eval_docs.append((doc_3, label))\n",
    "    \n",
    "nodes[: 6]"
   ]
  },
  {
   "cell_type": "code",
   "execution_count": 4,
   "metadata": {},
   "outputs": [],
   "source": [
    "import qdrant_client\n",
    "from llama_index.core import VectorStoreIndex\n",
    "from llama_index.core import StorageContext\n",
    "from llama_index.vector_stores.qdrant import QdrantVectorStore\n",
    "\n",
    "\n",
    "client = qdrant_client.QdrantClient(url=\"localhost\")\n",
    "# 先删除\n",
    "client.delete_collection(collection_name=\"abstract_collection\")\n",
    "\n",
    "vector_store = QdrantVectorStore(\n",
    "    client=client, \n",
    "    collection_name=\"abstract_collection\", \n",
    "    enable_hybrid=True,\n",
    "    sparse_doc_fn=fhy_default_sparse_encoder(\"http://localhost:8001/embed\"),\n",
    "    sparse_query_fn=fhy_default_sparse_encoder(\"http://localhost:8002/embed\"),\n",
    "    batch_size=32,    \n",
    ")\n",
    "\n",
    "storage_context = StorageContext.from_defaults(vector_store=vector_store)\n",
    "index = VectorStoreIndex(nodes, storage_context=storage_context)\n",
    "\n",
    "retriever = index.as_retriever(\n",
    "    similarity_top_k=5, \n",
    "    sparse_top_k=15, \n",
    "    vector_store_query_mode=\"hybrid\", \n",
    ")"
   ]
  },
  {
   "cell_type": "code",
   "execution_count": 5,
   "metadata": {},
   "outputs": [
    {
     "name": "stdout",
     "output_type": "stream",
     "text": [
      "True label is 吸附技术, 电催化: 0.8045306661658713 热电: 0.5 光催化: 0.49653380784608986 电池技术: 0.3630125760097395 层析重建: 0.3455790663187003 \n",
      "True label is 纳米复合材料, 光催化: 1.0 纳米复合材料: 0.701514495646155 光伏: 0.5508564746701721 光催化: 0.45148178205009104 光伏: 0.3773208965307339 \n",
      "True label is 复合材料, 纳米复合材料: 1.0 复合材料: 0.40090179366225503 MXene材料: 0.3109226147213543 电催化: 0.2845296272574742 循环经济: 0.2639786541843684 \n",
      "87 / 90\n"
     ]
    }
   ],
   "source": [
    "num_right = 0\n",
    "for doc_3, label in eval_docs:\n",
    "    response = retriever.retrieve(doc_3)\n",
    "    if response[0].metadata['label'] == label:\n",
    "        num_right += 1\n",
    "    else:\n",
    "        print('True label is {}, '.format(label), end='')\n",
    "        for node in response:\n",
    "            print('{}: {}'.format(node.metadata['label'], node.score), end=' ')\n",
    "        print()\n",
    "\n",
    "print('{} / {}'.format(num_right, len(eval_docs)))"
   ]
  },
  {
   "cell_type": "code",
   "execution_count": 6,
   "metadata": {},
   "outputs": [
    {
     "name": "stdout",
     "output_type": "stream",
     "text": [
      "True label is 吸附技术, {'电催化': 0.8045306661658713, '热电': 0.5, '光催化': 0.49653380784608986}\n",
      "89 / 90\n"
     ]
    }
   ],
   "source": [
    "num_right = 0\n",
    "for doc_3, label in eval_docs:\n",
    "    response = retriever.retrieve(doc_3)\n",
    "    label_dict = {}\n",
    "    for node in response:\n",
    "        pre_label = node.metadata['label']\n",
    "        if pre_label not in label_dict:\n",
    "            label_dict[pre_label] = node.score\n",
    "            if len(label_dict) == 3:\n",
    "                break\n",
    "    if label in label_dict:\n",
    "        num_right += 1\n",
    "    else:\n",
    "        print('True label is {}, '.format(label), end='')\n",
    "        print(label_dict)\n",
    "\n",
    "print('{} / {}'.format(num_right, len(eval_docs)))"
   ]
  }
 ],
 "metadata": {
  "kernelspec": {
   "display_name": "Python 3",
   "language": "python",
   "name": "python3"
  },
  "language_info": {
   "codemirror_mode": {
    "name": "ipython",
    "version": 3
   },
   "file_extension": ".py",
   "mimetype": "text/x-python",
   "name": "python",
   "nbconvert_exporter": "python",
   "pygments_lexer": "ipython3",
   "version": "3.10.13"
  }
 },
 "nbformat": 4,
 "nbformat_minor": 2
}
